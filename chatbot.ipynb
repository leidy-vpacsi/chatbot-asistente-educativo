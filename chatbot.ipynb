{
  "nbformat": 4,
  "nbformat_minor": 0,
  "metadata": {
    "colab": {
      "name": "chatbot.ipynb",
      "provenance": []
    },
    "kernelspec": {
      "name": "python3",
      "display_name": "Python 3"
    },
    "language_info": {
      "name": "python"
    }
  },
  "cells": [
    {
      "cell_type": "markdown",
      "metadata": {
        "id": "x4OgHGbv0PKk"
      },
      "source": [
        "**Chatbot**"
      ]
    },
    {
      "cell_type": "code",
      "metadata": {
        "id": "MnV9hLbBVjTC"
      },
      "source": [
        "pip install googletrans==4.0.0-rc1"
      ],
      "execution_count": null,
      "outputs": []
    },
    {
      "cell_type": "code",
      "metadata": {
        "id": "33SmpQbzW4AX"
      },
      "source": [
        "#importamos las librerias \n",
        "import nltk\n",
        "import random\n",
        "import string \n",
        "import googletrans\n",
        "from googletrans import Translator\n",
        "from sklearn.feature_extraction.text import TfidfVectorizer\n",
        "from sklearn.metrics.pairwise import cosine_similarity\n",
        "import warnings"
      ],
      "execution_count": null,
      "outputs": []
    },
    {
      "cell_type": "code",
      "metadata": {
        "colab": {
          "base_uri": "https://localhost:8080/"
        },
        "id": "8PCyaBH7plyj",
        "outputId": "7505ea53-1496-4135-8ea5-db521f509f46"
      },
      "source": [
        "translator = Translator() \n",
        "warnings.filterwarnings('ignore')\n",
        "with open('/content/historia peru.txt','r',encoding='utf8', errors = 'ignore') as data:\n",
        "  data1 = data.read().lower()\n",
        " \n",
        "sent_tokens = nltk.sent_tokenize(data1)#\n",
        "word_tokens = nltk.word_tokenize(data1)#\n",
        "#-------------------\n",
        "lemmer = nltk.stem.WordNetLemmatizer()\n",
        "def LemTokens(tokens):\n",
        "    return [lemmer.lemmatize(token) for token in tokens]\n",
        "remove_punct_dict = dict((ord(punct), None) for punct in string.punctuation)# \n",
        "def LemNormalize(text):\n",
        "    return LemTokens(nltk.word_tokenize(text.lower().translate(remove_punct_dict)))\n",
        "#-------------------\n",
        "Entrada = (\"hello\")\n",
        "Respuesta = (\"buen dia\", \"hola, Bienvenido de nuevo\")\n",
        "\n",
        "def saludo(sentence):\n",
        "    for word in sentence.split():\n",
        "        if word.lower() in Entrada:\n",
        "            return random.choice(Respuesta)\n",
        "#-------------------\n",
        "def res(respuesta_u):\n",
        "  \n",
        "    respuestabot=''\n",
        "    sent_tokens.append(respuesta_u)\n",
        "    TfidfVec = TfidfVectorizer(tokenizer=LemNormalize, stop_words='english')\n",
        "    tfidf = TfidfVec.fit_transform(sent_tokens)#TF \n",
        "    vals = cosine_similarity(tfidf[-1], tfidf)#IDF \n",
        "    idx=vals.argsort()[0][-2]#\n",
        "    flat = vals.flatten()\n",
        "    flat.sort()\n",
        "    req_tfidf = flat[-2]\n",
        "    if(req_tfidf==0):\n",
        "      \n",
        "        respuestabot =respuestabot+\"Disculpa aun no aprendi sobre eso\"\n",
        "        return respuestabot\n",
        "    else:\n",
        "        respuestabot = respuestabot+sent_tokens[idx]\n",
        "        resultq = translator.translate(respuestabot, dest='es')\n",
        "        respuestabot=resultq.text\n",
        "        return respuestabot\n",
        "#-------------------\n",
        "flag=True\n",
        "print(\"Hola hoy te respondere sobre tus dudas de PEru\")\n",
        "while(flag==True):\n",
        "    lala = input()\n",
        "    result = translator.translate(lala, dest='en')\n",
        "    web=result.text\n",
        "    respuesta_u=web.lower()\n",
        "    if(respuesta_u!='bye'):\n",
        "        if(respuesta_u=='thanks' or respuesta_u=='thank you' ):\n",
        "            flag=False\n",
        "            print(\"BBOT: De nada\")\n",
        "        else:\n",
        "            if(saludo(respuesta_u)!=None):\n",
        "                print(\"BBOT: \"+saludo(respuesta_u))\n",
        "            else:\n",
        "                print(\"BBOT: \",end=\"\")\n",
        "                print(res(respuesta_u))\n",
        "                sent_tokens.remove(respuesta_u)\n",
        "    else:\n",
        "        flag=False\n",
        "        print(\"BBOT: Hasta pronto!!\")"
      ],
      "execution_count": null,
      "outputs": [
        {
          "output_type": "stream",
          "text": [
            "Hola hoy te respondere sobre tus dudas de PEru\n",
            "hola\n",
            "BBOT: hola, Bienvenido de nuevo\n",
            "me uedes decir la poblacion en el peru\n",
            "BBOT: Capital Perú: Lima\n",
            "\n",
            "\n",
            "Población: 32 510 453 Población.\n",
            "\n",
            "\n",
            "Breve historia del Perú:\n",
            "Perú fue habitado por varios pueblos tribales a lo largo de la mayor parte de su historia antigua.\n"
          ],
          "name": "stdout"
        }
      ]
    }
  ]
}